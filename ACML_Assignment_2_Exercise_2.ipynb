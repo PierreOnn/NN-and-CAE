{
  "nbformat": 4,
  "nbformat_minor": 0,
  "metadata": {
    "colab": {
      "name": "ACML - Assignment 2 - Exercise 2",
      "provenance": [],
      "collapsed_sections": [
        "b18b2Zf1J_9_",
        "moXyCnn5Q0G8",
        "q2Ty9BmxLLxW",
        "ewChAJwEa8qt"
      ],
      "toc_visible": true,
      "authorship_tag": "ABX9TyMI61PAoOKl38lVjH045ihq",
      "include_colab_link": true
    },
    "kernelspec": {
      "display_name": "Python 3",
      "name": "python3"
    },
    "language_info": {
      "name": "python"
    },
    "accelerator": "GPU"
  },
  "cells": [
    {
      "cell_type": "markdown",
      "metadata": {
        "id": "view-in-github",
        "colab_type": "text"
      },
      "source": [
        "<a href=\"https://colab.research.google.com/github/PrinceWallyy/MachineLearning/blob/master/ACML_Assignment_2_Exercise_2.ipynb\" target=\"_parent\"><img src=\"https://colab.research.google.com/assets/colab-badge.svg\" alt=\"Open In Colab\"/></a>"
      ]
    },
    {
      "cell_type": "markdown",
      "metadata": {
        "id": "b18b2Zf1J_9_"
      },
      "source": [
        "# Weights & Biases"
      ]
    },
    {
      "cell_type": "code",
      "metadata": {
        "id": "urEejbRfJVBm",
        "colab": {
          "base_uri": "https://localhost:8080/"
        },
        "outputId": "2bb97d1e-fe0a-4624-effa-43233bb0f1fa"
      },
      "source": [
        "!pip install wandb -q"
      ],
      "execution_count": null,
      "outputs": [
        {
          "output_type": "stream",
          "name": "stdout",
          "text": [
            "\u001b[K     |████████████████████████████████| 1.7 MB 7.2 MB/s \n",
            "\u001b[K     |████████████████████████████████| 97 kB 8.1 MB/s \n",
            "\u001b[K     |████████████████████████████████| 139 kB 42.6 MB/s \n",
            "\u001b[K     |████████████████████████████████| 180 kB 55.5 MB/s \n",
            "\u001b[K     |████████████████████████████████| 63 kB 1.9 MB/s \n",
            "\u001b[?25h  Building wheel for subprocess32 (setup.py) ... \u001b[?25l\u001b[?25hdone\n",
            "  Building wheel for pathtools (setup.py) ... \u001b[?25l\u001b[?25hdone\n"
          ]
        }
      ]
    },
    {
      "cell_type": "code",
      "metadata": {
        "colab": {
          "base_uri": "https://localhost:8080/"
        },
        "id": "o9g6coDaJau2",
        "outputId": "e994074a-4354-4004-faf7-c4e704cf7e8e"
      },
      "source": [
        "import wandb\n",
        "from wandb.keras import WandbCallback\n",
        "\n",
        "wandb.login()"
      ],
      "execution_count": null,
      "outputs": [
        {
          "output_type": "display_data",
          "data": {
            "application/javascript": [
              "\n",
              "        window._wandbApiKey = new Promise((resolve, reject) => {\n",
              "            function loadScript(url) {\n",
              "            return new Promise(function(resolve, reject) {\n",
              "                let newScript = document.createElement(\"script\");\n",
              "                newScript.onerror = reject;\n",
              "                newScript.onload = resolve;\n",
              "                document.body.appendChild(newScript);\n",
              "                newScript.src = url;\n",
              "            });\n",
              "            }\n",
              "            loadScript(\"https://cdn.jsdelivr.net/npm/postmate/build/postmate.min.js\").then(() => {\n",
              "            const iframe = document.createElement('iframe')\n",
              "            iframe.style.cssText = \"width:0;height:0;border:none\"\n",
              "            document.body.appendChild(iframe)\n",
              "            const handshake = new Postmate({\n",
              "                container: iframe,\n",
              "                url: 'https://wandb.ai/authorize'\n",
              "            });\n",
              "            const timeout = setTimeout(() => reject(\"Couldn't auto authenticate\"), 5000)\n",
              "            handshake.then(function(child) {\n",
              "                child.on('authorize', data => {\n",
              "                    clearTimeout(timeout)\n",
              "                    resolve(data)\n",
              "                });\n",
              "            });\n",
              "            })\n",
              "        });\n",
              "    "
            ],
            "text/plain": [
              "<IPython.core.display.Javascript object>"
            ]
          },
          "metadata": {}
        },
        {
          "output_type": "stream",
          "name": "stderr",
          "text": [
            "\u001b[34m\u001b[1mwandb\u001b[0m: Appending key for api.wandb.ai to your netrc file: /root/.netrc\n"
          ]
        },
        {
          "output_type": "execute_result",
          "data": {
            "text/plain": [
              "True"
            ]
          },
          "metadata": {},
          "execution_count": 3
        }
      ]
    },
    {
      "cell_type": "markdown",
      "metadata": {
        "id": "moXyCnn5Q0G8"
      },
      "source": [
        "# Preprocess"
      ]
    },
    {
      "cell_type": "code",
      "metadata": {
        "id": "419dEF9YJ1YW"
      },
      "source": [
        "import numpy as np\n",
        "import matplotlib.pyplot as plt\n",
        "from sklearn.model_selection import train_test_split\n",
        "import tensorflow as tf\n",
        "from tensorflow.keras import datasets, layers, models\n",
        "from keras.datasets import cifar10\n",
        "from keras.utils import np_utils\n",
        "\n",
        "np.random.seed(42)\n",
        "tf.random.set_seed(42)"
      ],
      "execution_count": null,
      "outputs": []
    },
    {
      "cell_type": "code",
      "metadata": {
        "id": "GH7cMjBFNJS9",
        "colab": {
          "base_uri": "https://localhost:8080/"
        },
        "outputId": "65722af2-ed71-4c8e-8063-c373fc34a9ca"
      },
      "source": [
        "(x_train, _), (x_test, _) = cifar10.load_data()\n",
        "data = np.vstack((x_train, x_test))\n",
        "data = data / 255\n",
        "(x_train, x_val, x_test) = np.vsplit(data, np.array([48000, 54000]))\n",
        "assert x_train.shape == (48000, 32, 32, 3)\n",
        "assert x_val.shape == (6000, 32, 32, 3)\n",
        "assert x_test.shape == (6000, 32, 32, 3)\n",
        "\n",
        "x_train = x_train.astype('float32')\n",
        "x_val = x_val.astype('float32')\n",
        "x_test = x_test.astype('float32')"
      ],
      "execution_count": null,
      "outputs": [
        {
          "output_type": "stream",
          "name": "stdout",
          "text": [
            "Downloading data from https://www.cs.toronto.edu/~kriz/cifar-10-python.tar.gz\n",
            "170500096/170498071 [==============================] - 4s 0us/step\n",
            "170508288/170498071 [==============================] - 4s 0us/step\n"
          ]
        }
      ]
    },
    {
      "cell_type": "markdown",
      "metadata": {
        "id": "q2Ty9BmxLLxW"
      },
      "source": [
        "# Sweep"
      ]
    },
    {
      "cell_type": "code",
      "metadata": {
        "colab": {
          "base_uri": "https://localhost:8080/"
        },
        "id": "j3SL2cOkLUvx",
        "outputId": "aae0eb99-766f-4de6-8833-d50bdb7e38a2"
      },
      "source": [
        "sweep_config = {\n",
        "  \"name\" : \"CAE_Random_Optimization\",\n",
        "  \"method\" : \"random\",\n",
        "  \"metric\":{\n",
        "    \"name\": \"val_loss\",\n",
        "    \"goal\": \"minimize\"\n",
        "  },\n",
        "  \"parameters\" : {\n",
        "    \"kernel\" :{\n",
        "      \"values\" :[1, 3, 5, 7]\n",
        "    },\n",
        "    \"stride\" :{\n",
        "      \"values\" :[1]\n",
        "    },\n",
        "    \"padding\" :{\n",
        "      \"values\" :['same']\n",
        "    },\n",
        "    \"layer_1_filter\" :{\n",
        "      \"values\" :[8, 12, 16, 32]\n",
        "    },\n",
        "    \"layer_2_filter\" :{\n",
        "      \"values\" :[12, 16, 32, 64]\n",
        "    },\n",
        "    \"layer_3_filter\" :{\n",
        "      \"values\" :[16, 32, 64, 128]\n",
        "    },\n",
        "    \"layer_4_filter\" :{\n",
        "      \"values\" :[12, 16, 32, 64]\n",
        "    }\n",
        "  }\n",
        "}\n",
        "\n",
        "sweep_id = wandb.sweep(sweep_config, project=\"Assignment 2\")"
      ],
      "execution_count": null,
      "outputs": [
        {
          "output_type": "stream",
          "name": "stdout",
          "text": [
            "Create sweep with ID: 996y9ysq\n",
            "Sweep URL: https://wandb.ai/princewallyy/Assignment%202/sweeps/996y9ysq\n"
          ]
        }
      ]
    },
    {
      "cell_type": "markdown",
      "metadata": {
        "id": "ewChAJwEa8qt"
      },
      "source": [
        "# Convolutional AutoEncoder"
      ]
    },
    {
      "cell_type": "code",
      "metadata": {
        "id": "OQpukAsMbAb0"
      },
      "source": [
        "input_shape = (32, 32, 3)"
      ],
      "execution_count": null,
      "outputs": []
    },
    {
      "cell_type": "code",
      "metadata": {
        "id": "g-G7SxZvbSUK"
      },
      "source": [
        "def createModel(config):\n",
        "  model = models.Sequential()\n",
        "  model.add(layers.Conv2D(filters=config.layer_1_filter, kernel_size=(config.kernel, config.kernel), strides=config.stride,\n",
        "                          padding=config.padding, activation='relu', input_shape=input_shape))\n",
        "  model.add(layers.MaxPooling2D(pool_size=(2, 2)))\n",
        "\n",
        "  model.add(layers.Conv2D(filters=config.layer_2_filter, kernel_size=(config.kernel, config.kernel), strides=config.stride,\n",
        "                          padding=config.padding, activation='relu'))\n",
        "  model.add(layers.MaxPooling2D(pool_size=(2, 2)))\n",
        "\n",
        "  model.add(layers.Conv2D(filters=config.layer_3_filter, kernel_size=(config.kernel, config.kernel), strides=config.stride,\n",
        "                          padding=config.padding, activation='relu'))\n",
        "  model.add(layers.UpSampling2D(size=(2, 2)))\n",
        "\n",
        "  model.add(layers.Conv2D(filters=config.layer_4_filter, kernel_size=(config.kernel, config.kernel), strides=config.stride,\n",
        "                          padding=config.padding, activation='relu'))\n",
        "  model.add(layers.UpSampling2D(size=(2, 2)))\n",
        "\n",
        "  model.add(layers.Conv2D(3, (3, 3), padding='same', activation='sigmoid'))\n",
        "\n",
        "  return model"
      ],
      "execution_count": null,
      "outputs": []
    },
    {
      "cell_type": "markdown",
      "metadata": {
        "id": "TGc4oKgwQgtu"
      },
      "source": [
        "# Training"
      ]
    },
    {
      "cell_type": "code",
      "metadata": {
        "id": "uNDyUK25gixQ"
      },
      "source": [
        "def train():\n",
        "  with wandb.init() as run:\n",
        "    config = wandb.config\n",
        "    model = createModel(config)\n",
        "\n",
        "    model.compile(optimizer='adam', loss='mean_squared_error', metrics=['accuracy'])\n",
        "\n",
        "    model.fit(x_train, x_train, epochs=10, validation_data=(x_val, x_val), callbacks=[WandbCallback()])\n",
        "\n",
        "    loss, accuracy = model.evaluate(x_test, x_test)\n",
        "    wandb.log({'Test Error Rate': round((1 - accuracy) * 100, 2)})"
      ],
      "execution_count": null,
      "outputs": []
    },
    {
      "cell_type": "code",
      "metadata": {
        "id": "0_8gEIFolAPZ"
      },
      "source": [
        "wandb.agent(sweep_id, function=train, count=20, project=\"Assignment 2\")"
      ],
      "execution_count": null,
      "outputs": []
    }
  ]
}